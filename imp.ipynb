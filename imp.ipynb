{
 "cells": [
  {
   "cell_type": "code",
   "execution_count": null,
   "metadata": {},
   "outputs": [],
   "source": [
    "from qiskit import QuantumCircuit, transpile, assemble\n",
    "from qiskit_aer import Aer\n",
    "from qiskit.quantum_info import Statevector, Operator, DensityMatrix, ScalarOp\n",
    "from qiskit.circuit.library import Diagonal\n",
    "from qiskit.visualization import plot_histogram\n",
    "import matplotlib.pyplot as plt"
   ]
  },
  {
   "cell_type": "code",
   "execution_count": null,
   "metadata": {},
   "outputs": [],
   "source": [
    "def init(circuit, qubits):\n",
    "    for q in qubits:\n",
    "        circuit.h(q)\n",
    "    return circuit\n",
    "\n",
    "oracle = QuantumCircuit(5, name='oracle')\n",
    "qubits = [0, 1, 2, 3, 4]\n",
    "possible_comb = ['10001','11011','11001','11110','11000'] \n",
    "mark_circuit = []\n",
    "mark_comb = []\n",
    "\n",
    "for i in range(len(possible_comb)):\n",
    "    mark_comb.append(Statevector.from_label(possible_comb[i])) # Diagonal operator for mark\n",
    "    mark_circuit.append(Diagonal((-1)**mark_comb[i].data))  # Circuit that induces a -1 phase on the marked states\n",
    "    oracle.append(mark_circuit[i], qubits)\n",
    "\n",
    "oracle.draw()"
   ]
  },
  {
   "cell_type": "code",
   "execution_count": null,
   "metadata": {},
   "outputs": [],
   "source": [
    "def diffuser(qubits):\n",
    "    amp = QuantumCircuit(5, name='amplifier')\n",
    "    amp.h(qubits)\n",
    "    amp.x(qubits)\n",
    "    inv = Statevector.from_label('11111')\n",
    "    inv = Diagonal((-1)**inv.data)\n",
    "    amp.append(inv, qubits)\n",
    "    amp.x(qubits)\n",
    "    amp.h(qubits)\n",
    "    return amp\n",
    "\n",
    "amp = diffuser(qubits)\n",
    "amp.draw()"
   ]
  },
  {
   "cell_type": "code",
   "execution_count": null,
   "metadata": {},
   "outputs": [],
   "source": [
    "gc = QuantumCircuit(5, 5)\n",
    "gc = init(gc, qubits)\n",
    "gc.append(oracle,[0,1,2,3,4])\n",
    "gc.append(amp,[0,1,2,3,4])\n",
    "\n",
    "qasm_sim = Aer.get_backend('qasm_simulator')\n",
    "gc.measure_all()\n",
    "fig = plt.figure(figsize=(20,15))\n",
    "gc.draw(output='mpl', ax=fig.gca())  # Final circuit (Image type file)\n",
    "\n",
    "job_sim = qasm_sim.run(transpile(gc, qasm_sim), shots=512)\n",
    "res = job_sim.result()\n",
    "fig2 = plt.figure(figsize=(20,15))\n",
    "plot_histogram(res.get_counts(gc) ,ax=fig2.gca())"
   ]
  }
 ],
 "metadata": {
  "kernelspec": {
   "display_name": "Python 3",
   "language": "python",
   "name": "python3"
  },
  "language_info": {
   "codemirror_mode": {
    "name": "ipython",
    "version": 3
   },
   "file_extension": ".py",
   "mimetype": "text/x-python",
   "name": "python",
   "nbconvert_exporter": "python",
   "pygments_lexer": "ipython3",
   "version": "3.12.2"
  }
 },
 "nbformat": 4,
 "nbformat_minor": 2
}
