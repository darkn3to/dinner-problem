{
 "cells": [
  {
   "cell_type": "code",
   "execution_count": 4,
   "metadata": {},
   "outputs": [],
   "source": [
    "from qiskit import QuantumCircuit, transpile, assemble\n",
    "from qiskit import IBMQ\n",
    "from qiskit.providers.ibmq import least_busy\n",
    "from qiskit_aer import Aer\n",
    "from qiskit.quantum_info import Statevector, Operator, DensityMatrix, ScalarOp\n",
    "from qiskit.circuit.library import Diagonal\n",
    "from qiskit.visualization import plot_histogram\n",
    "import matplotlib.pyplot as plt"
   ]
  },
  {
   "cell_type": "code",
   "execution_count": 5,
   "metadata": {},
   "outputs": [
    {
     "data": {
      "text/plain": [
       "'oracle.draw()'"
      ]
     },
     "execution_count": 5,
     "metadata": {},
     "output_type": "execute_result"
    }
   ],
   "source": [
    "oracle = QuantumCircuit(5)\n",
    "qubits = [0, 1, 2, 3, 4]\n",
    "possible_comb = ['11010','11011','11001','11110'] \n",
    "mark_circuit = []\n",
    "mark_comb = []\n",
    "\n",
    "for i in range(len(possible_comb)):\n",
    "    mark_comb.append(Statevector.from_label(possible_comb[i]))\n",
    "    diag = [-1 for j in range(2**len(possible_comb[0]))]\n",
    "    mark_circuit.append(Diagonal(diag))\n",
    "    oracle.append(mark_circuit[i], qubits)\n",
    "\n",
    "'''oracle.draw()'''"
   ]
  },
  {
   "cell_type": "code",
   "execution_count": 9,
   "metadata": {},
   "outputs": [
    {
     "data": {
      "text/html": [
       "<pre style=\"word-wrap: normal;white-space: pre;background: #fff0;line-height: 1.1;font-family: &quot;Courier New&quot;,Courier,monospace\">     ┌───┐┌───┐┌───────────┐┌───┐┌───┐\n",
       "q_0: ┤ H ├┤ X ├┤0          ├┤ X ├┤ H ├\n",
       "     ├───┤├───┤│           │├───┤├───┤\n",
       "q_1: ┤ H ├┤ X ├┤1          ├┤ X ├┤ H ├\n",
       "     ├───┤├───┤│           │├───┤├───┤\n",
       "q_2: ┤ H ├┤ X ├┤2 Diagonal ├┤ X ├┤ H ├\n",
       "     ├───┤├───┤│           │├───┤├───┤\n",
       "q_3: ┤ H ├┤ X ├┤3          ├┤ X ├┤ H ├\n",
       "     ├───┤├───┤│           │├───┤├───┤\n",
       "q_4: ┤ H ├┤ X ├┤4          ├┤ X ├┤ H ├\n",
       "     └───┘└───┘└───────────┘└───┘└───┘</pre>"
      ],
      "text/plain": [
       "     ┌───┐┌───┐┌───────────┐┌───┐┌───┐\n",
       "q_0: ┤ H ├┤ X ├┤0          ├┤ X ├┤ H ├\n",
       "     ├───┤├───┤│           │├───┤├───┤\n",
       "q_1: ┤ H ├┤ X ├┤1          ├┤ X ├┤ H ├\n",
       "     ├───┤├───┤│           │├───┤├───┤\n",
       "q_2: ┤ H ├┤ X ├┤2 Diagonal ├┤ X ├┤ H ├\n",
       "     ├───┤├───┤│           │├───┤├───┤\n",
       "q_3: ┤ H ├┤ X ├┤3          ├┤ X ├┤ H ├\n",
       "     ├───┤├───┤│           │├───┤├───┤\n",
       "q_4: ┤ H ├┤ X ├┤4          ├┤ X ├┤ H ├\n",
       "     └───┘└───┘└───────────┘└───┘└───┘"
      ]
     },
     "execution_count": 9,
     "metadata": {},
     "output_type": "execute_result"
    }
   ],
   "source": [
    "def diffuser(qubits):\n",
    "    amp = QuantumCircuit(5)\n",
    "    amp.h(qubits)\n",
    "    amp.x(qubits)\n",
    "    mark_comb.append(Statevector.from_label(possible_comb[i]))\n",
    "    diag = [-1 for j in range(2**len(possible_comb[0]))]\n",
    "    mark_circuit.append(Diagonal(diag))\n",
    "    amp.append(mark_circuit[i], qubits)\n",
    "    amp.x(qubits)\n",
    "    amp.h(qubits)\n",
    "    return amp\n",
    "\n",
    "oracle = diffuser(qubits)\n",
    "'''oracle.draw()'''"
   ]
  },
  {
   "cell_type": "code",
   "execution_count": null,
   "metadata": {},
   "outputs": [],
   "source": []
  }
 ],
 "metadata": {
  "kernelspec": {
   "display_name": "Python 3",
   "language": "python",
   "name": "python3"
  },
  "language_info": {
   "codemirror_mode": {
    "name": "ipython",
    "version": 3
   },
   "file_extension": ".py",
   "mimetype": "text/x-python",
   "name": "python",
   "nbconvert_exporter": "python",
   "pygments_lexer": "ipython3",
   "version": "3.12.2"
  }
 },
 "nbformat": 4,
 "nbformat_minor": 2
}
